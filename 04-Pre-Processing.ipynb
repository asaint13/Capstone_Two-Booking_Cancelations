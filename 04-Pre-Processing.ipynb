{
 "cells": [
  {
   "cell_type": "markdown",
   "metadata": {},
   "source": [
    "# Pre-Processing\n",
    "\n",
    "This notebook contains the necessary pre-processing steps."
   ]
  },
  {
   "cell_type": "code",
   "execution_count": 1,
   "metadata": {},
   "outputs": [],
   "source": [
    "import numpy as np\n",
    "import pandas as pd\n",
    "from sklearn.model_selection import train_test_split\n",
    "from sklearn.preprocessing import StandardScaler\n",
    "pd.set_option('display.max_columns', 32)"
   ]
  },
  {
   "cell_type": "code",
   "execution_count": 2,
   "metadata": {},
   "outputs": [
    {
     "data": {
      "text/html": [
       "<div>\n",
       "<style scoped>\n",
       "    .dataframe tbody tr th:only-of-type {\n",
       "        vertical-align: middle;\n",
       "    }\n",
       "\n",
       "    .dataframe tbody tr th {\n",
       "        vertical-align: top;\n",
       "    }\n",
       "\n",
       "    .dataframe thead th {\n",
       "        text-align: right;\n",
       "    }\n",
       "</style>\n",
       "<table border=\"1\" class=\"dataframe\">\n",
       "  <thead>\n",
       "    <tr style=\"text-align: right;\">\n",
       "      <th></th>\n",
       "      <th>hotel</th>\n",
       "      <th>is_canceled</th>\n",
       "      <th>lead_time</th>\n",
       "      <th>arrival_date_year</th>\n",
       "      <th>arrival_date_month</th>\n",
       "      <th>arrival_date_week_number</th>\n",
       "      <th>arrival_date_day_of_month</th>\n",
       "      <th>stays_in_weekend_nights</th>\n",
       "      <th>stays_in_week_nights</th>\n",
       "      <th>adults</th>\n",
       "      <th>children</th>\n",
       "      <th>babies</th>\n",
       "      <th>meal</th>\n",
       "      <th>country</th>\n",
       "      <th>market_segment</th>\n",
       "      <th>is_repeated_guest</th>\n",
       "      <th>previous_cancellations</th>\n",
       "      <th>previous_bookings_not_canceled</th>\n",
       "      <th>reserved_room_type</th>\n",
       "      <th>assigned_room_type</th>\n",
       "      <th>booking_changes</th>\n",
       "      <th>deposit_type</th>\n",
       "      <th>agent</th>\n",
       "      <th>days_in_waiting_list</th>\n",
       "      <th>customer_type</th>\n",
       "      <th>adr</th>\n",
       "      <th>required_car_parking_spaces</th>\n",
       "      <th>total_of_special_requests</th>\n",
       "      <th>reservation_status</th>\n",
       "      <th>reservation_status_date</th>\n",
       "    </tr>\n",
       "  </thead>\n",
       "  <tbody>\n",
       "    <tr>\n",
       "      <th>0</th>\n",
       "      <td>0</td>\n",
       "      <td>0</td>\n",
       "      <td>7</td>\n",
       "      <td>2015</td>\n",
       "      <td>July</td>\n",
       "      <td>27</td>\n",
       "      <td>1</td>\n",
       "      <td>0</td>\n",
       "      <td>1</td>\n",
       "      <td>1</td>\n",
       "      <td>0.0</td>\n",
       "      <td>0</td>\n",
       "      <td>BB</td>\n",
       "      <td>GBR</td>\n",
       "      <td>Direct</td>\n",
       "      <td>0</td>\n",
       "      <td>0</td>\n",
       "      <td>0</td>\n",
       "      <td>A</td>\n",
       "      <td>C</td>\n",
       "      <td>0</td>\n",
       "      <td>No Deposit</td>\n",
       "      <td>-1.0</td>\n",
       "      <td>0</td>\n",
       "      <td>Transient</td>\n",
       "      <td>75.0</td>\n",
       "      <td>0</td>\n",
       "      <td>0</td>\n",
       "      <td>Check-Out</td>\n",
       "      <td>2015-07-02</td>\n",
       "    </tr>\n",
       "    <tr>\n",
       "      <th>1</th>\n",
       "      <td>0</td>\n",
       "      <td>0</td>\n",
       "      <td>13</td>\n",
       "      <td>2015</td>\n",
       "      <td>July</td>\n",
       "      <td>27</td>\n",
       "      <td>1</td>\n",
       "      <td>0</td>\n",
       "      <td>1</td>\n",
       "      <td>1</td>\n",
       "      <td>0.0</td>\n",
       "      <td>0</td>\n",
       "      <td>BB</td>\n",
       "      <td>GBR</td>\n",
       "      <td>Corporate</td>\n",
       "      <td>0</td>\n",
       "      <td>0</td>\n",
       "      <td>0</td>\n",
       "      <td>A</td>\n",
       "      <td>A</td>\n",
       "      <td>0</td>\n",
       "      <td>No Deposit</td>\n",
       "      <td>304.0</td>\n",
       "      <td>0</td>\n",
       "      <td>Transient</td>\n",
       "      <td>75.0</td>\n",
       "      <td>0</td>\n",
       "      <td>0</td>\n",
       "      <td>Check-Out</td>\n",
       "      <td>2015-07-02</td>\n",
       "    </tr>\n",
       "    <tr>\n",
       "      <th>2</th>\n",
       "      <td>0</td>\n",
       "      <td>0</td>\n",
       "      <td>14</td>\n",
       "      <td>2015</td>\n",
       "      <td>July</td>\n",
       "      <td>27</td>\n",
       "      <td>1</td>\n",
       "      <td>0</td>\n",
       "      <td>2</td>\n",
       "      <td>2</td>\n",
       "      <td>0.0</td>\n",
       "      <td>0</td>\n",
       "      <td>BB</td>\n",
       "      <td>GBR</td>\n",
       "      <td>Online TA</td>\n",
       "      <td>0</td>\n",
       "      <td>0</td>\n",
       "      <td>0</td>\n",
       "      <td>A</td>\n",
       "      <td>A</td>\n",
       "      <td>0</td>\n",
       "      <td>No Deposit</td>\n",
       "      <td>240.0</td>\n",
       "      <td>0</td>\n",
       "      <td>Transient</td>\n",
       "      <td>98.0</td>\n",
       "      <td>0</td>\n",
       "      <td>1</td>\n",
       "      <td>Check-Out</td>\n",
       "      <td>2015-07-03</td>\n",
       "    </tr>\n",
       "    <tr>\n",
       "      <th>3</th>\n",
       "      <td>0</td>\n",
       "      <td>0</td>\n",
       "      <td>0</td>\n",
       "      <td>2015</td>\n",
       "      <td>July</td>\n",
       "      <td>27</td>\n",
       "      <td>1</td>\n",
       "      <td>0</td>\n",
       "      <td>2</td>\n",
       "      <td>2</td>\n",
       "      <td>0.0</td>\n",
       "      <td>0</td>\n",
       "      <td>BB</td>\n",
       "      <td>PRT</td>\n",
       "      <td>Direct</td>\n",
       "      <td>0</td>\n",
       "      <td>0</td>\n",
       "      <td>0</td>\n",
       "      <td>C</td>\n",
       "      <td>C</td>\n",
       "      <td>0</td>\n",
       "      <td>No Deposit</td>\n",
       "      <td>-1.0</td>\n",
       "      <td>0</td>\n",
       "      <td>Transient</td>\n",
       "      <td>107.0</td>\n",
       "      <td>0</td>\n",
       "      <td>0</td>\n",
       "      <td>Check-Out</td>\n",
       "      <td>2015-07-03</td>\n",
       "    </tr>\n",
       "    <tr>\n",
       "      <th>4</th>\n",
       "      <td>0</td>\n",
       "      <td>0</td>\n",
       "      <td>9</td>\n",
       "      <td>2015</td>\n",
       "      <td>July</td>\n",
       "      <td>27</td>\n",
       "      <td>1</td>\n",
       "      <td>0</td>\n",
       "      <td>2</td>\n",
       "      <td>2</td>\n",
       "      <td>0.0</td>\n",
       "      <td>0</td>\n",
       "      <td>FB</td>\n",
       "      <td>PRT</td>\n",
       "      <td>Direct</td>\n",
       "      <td>0</td>\n",
       "      <td>0</td>\n",
       "      <td>0</td>\n",
       "      <td>C</td>\n",
       "      <td>C</td>\n",
       "      <td>0</td>\n",
       "      <td>No Deposit</td>\n",
       "      <td>303.0</td>\n",
       "      <td>0</td>\n",
       "      <td>Transient</td>\n",
       "      <td>103.0</td>\n",
       "      <td>0</td>\n",
       "      <td>1</td>\n",
       "      <td>Check-Out</td>\n",
       "      <td>2015-07-03</td>\n",
       "    </tr>\n",
       "  </tbody>\n",
       "</table>\n",
       "</div>"
      ],
      "text/plain": [
       "   hotel  is_canceled  lead_time  arrival_date_year arrival_date_month  \\\n",
       "0      0            0          7               2015               July   \n",
       "1      0            0         13               2015               July   \n",
       "2      0            0         14               2015               July   \n",
       "3      0            0          0               2015               July   \n",
       "4      0            0          9               2015               July   \n",
       "\n",
       "   arrival_date_week_number  arrival_date_day_of_month  \\\n",
       "0                        27                          1   \n",
       "1                        27                          1   \n",
       "2                        27                          1   \n",
       "3                        27                          1   \n",
       "4                        27                          1   \n",
       "\n",
       "   stays_in_weekend_nights  stays_in_week_nights  adults  children  babies  \\\n",
       "0                        0                     1       1       0.0       0   \n",
       "1                        0                     1       1       0.0       0   \n",
       "2                        0                     2       2       0.0       0   \n",
       "3                        0                     2       2       0.0       0   \n",
       "4                        0                     2       2       0.0       0   \n",
       "\n",
       "  meal country market_segment  is_repeated_guest  previous_cancellations  \\\n",
       "0   BB     GBR         Direct                  0                       0   \n",
       "1   BB     GBR      Corporate                  0                       0   \n",
       "2   BB     GBR      Online TA                  0                       0   \n",
       "3   BB     PRT         Direct                  0                       0   \n",
       "4   FB     PRT         Direct                  0                       0   \n",
       "\n",
       "   previous_bookings_not_canceled reserved_room_type assigned_room_type  \\\n",
       "0                               0                  A                  C   \n",
       "1                               0                  A                  A   \n",
       "2                               0                  A                  A   \n",
       "3                               0                  C                  C   \n",
       "4                               0                  C                  C   \n",
       "\n",
       "   booking_changes deposit_type  agent  days_in_waiting_list customer_type  \\\n",
       "0                0   No Deposit   -1.0                     0     Transient   \n",
       "1                0   No Deposit  304.0                     0     Transient   \n",
       "2                0   No Deposit  240.0                     0     Transient   \n",
       "3                0   No Deposit   -1.0                     0     Transient   \n",
       "4                0   No Deposit  303.0                     0     Transient   \n",
       "\n",
       "     adr  required_car_parking_spaces  total_of_special_requests  \\\n",
       "0   75.0                            0                          0   \n",
       "1   75.0                            0                          0   \n",
       "2   98.0                            0                          1   \n",
       "3  107.0                            0                          0   \n",
       "4  103.0                            0                          1   \n",
       "\n",
       "  reservation_status reservation_status_date  \n",
       "0          Check-Out              2015-07-02  \n",
       "1          Check-Out              2015-07-02  \n",
       "2          Check-Out              2015-07-03  \n",
       "3          Check-Out              2015-07-03  \n",
       "4          Check-Out              2015-07-03  "
      ]
     },
     "execution_count": 2,
     "metadata": {},
     "output_type": "execute_result"
    }
   ],
   "source": [
    "#Loading data\n",
    "bookings = pd.read_csv('post_eda_bookings.csv')\n",
    "bookings.head()"
   ]
  },
  {
   "cell_type": "markdown",
   "metadata": {},
   "source": [
    "## Feature Reduction"
   ]
  },
  {
   "cell_type": "code",
   "execution_count": 3,
   "metadata": {},
   "outputs": [
    {
     "name": "stdout",
     "output_type": "stream",
     "text": [
      "<class 'pandas.core.frame.DataFrame'>\n",
      "RangeIndex: 86249 entries, 0 to 86248\n",
      "Data columns (total 30 columns):\n",
      " #   Column                          Non-Null Count  Dtype  \n",
      "---  ------                          --------------  -----  \n",
      " 0   hotel                           86249 non-null  int64  \n",
      " 1   is_canceled                     86249 non-null  int64  \n",
      " 2   lead_time                       86249 non-null  int64  \n",
      " 3   arrival_date_year               86249 non-null  int64  \n",
      " 4   arrival_date_month              86249 non-null  object \n",
      " 5   arrival_date_week_number        86249 non-null  int64  \n",
      " 6   arrival_date_day_of_month       86249 non-null  int64  \n",
      " 7   stays_in_weekend_nights         86249 non-null  int64  \n",
      " 8   stays_in_week_nights            86249 non-null  int64  \n",
      " 9   adults                          86249 non-null  int64  \n",
      " 10  children                        86249 non-null  float64\n",
      " 11  babies                          86249 non-null  int64  \n",
      " 12  meal                            86249 non-null  object \n",
      " 13  country                         86249 non-null  object \n",
      " 14  market_segment                  86249 non-null  object \n",
      " 15  is_repeated_guest               86249 non-null  int64  \n",
      " 16  previous_cancellations          86249 non-null  int64  \n",
      " 17  previous_bookings_not_canceled  86249 non-null  int64  \n",
      " 18  reserved_room_type              86249 non-null  object \n",
      " 19  assigned_room_type              86249 non-null  object \n",
      " 20  booking_changes                 86249 non-null  int64  \n",
      " 21  deposit_type                    86249 non-null  object \n",
      " 22  agent                           86249 non-null  float64\n",
      " 23  days_in_waiting_list            86249 non-null  int64  \n",
      " 24  customer_type                   86249 non-null  object \n",
      " 25  adr                             86249 non-null  float64\n",
      " 26  required_car_parking_spaces     86249 non-null  int64  \n",
      " 27  total_of_special_requests       86249 non-null  int64  \n",
      " 28  reservation_status              86249 non-null  object \n",
      " 29  reservation_status_date         86249 non-null  object \n",
      "dtypes: float64(3), int64(17), object(10)\n",
      "memory usage: 19.7+ MB\n"
     ]
    }
   ],
   "source": [
    "#Exploring columns\n",
    "bookings.info()"
   ]
  },
  {
   "cell_type": "code",
   "execution_count": 4,
   "metadata": {},
   "outputs": [
    {
     "data": {
      "text/plain": [
       "arrival_date_month          12\n",
       "meal                         4\n",
       "country                    178\n",
       "market_segment               8\n",
       "reserved_room_type          10\n",
       "assigned_room_type          12\n",
       "deposit_type                 3\n",
       "customer_type                4\n",
       "reservation_status           3\n",
       "reservation_status_date    924\n",
       "agent                      334\n",
       "dtype: int64"
      ]
     },
     "execution_count": 4,
     "metadata": {},
     "output_type": "execute_result"
    }
   ],
   "source": [
    "#Looking at the number of unique values for categorical features. Including agent id column\n",
    "cat = list(bookings.select_dtypes(include=['object']).columns)\n",
    "cat.append('agent')\n",
    "bookings[cat].nunique()"
   ]
  },
  {
   "cell_type": "markdown",
   "metadata": {},
   "source": [
    "I'll take a look at the country column and try to reduce the number of unique values. I'm also taking a look at the agent column. The agent column is a numeric id for the travel agency that booked the reservation. I want to see if there's a particular agency that's used more frequently than others. I'm getting rid of reservation_statatus_date and the reservation_status columns. The relevant information for what happened with a reservation is already stored in the is_canceled column. \n",
    "\n",
    "**I'll also get rid of the agent column. The agent column is a numeric id for the travel agency that booked the reservation. The type of travel agency is likely to be more useful, and we have that information in the market_segment column.**"
   ]
  },
  {
   "cell_type": "code",
   "execution_count": 5,
   "metadata": {},
   "outputs": [],
   "source": [
    "#Dropping unnecessary\n",
    "df= bookings.drop(['reservation_status', 'reservation_status_date'], axis=1)"
   ]
  },
  {
   "cell_type": "code",
   "execution_count": 6,
   "metadata": {},
   "outputs": [
    {
     "data": {
      "text/plain": [
       " 9.0      28655\n",
       " 240.0    12899\n",
       "-1.0      11854\n",
       " 14.0      3330\n",
       " 7.0       3280\n",
       "Name: agent, dtype: int64"
      ]
     },
     "execution_count": 6,
     "metadata": {},
     "output_type": "execute_result"
    }
   ],
   "source": [
    "#Looking at the count of the values\n",
    "df['agent'].value_counts().head()"
   ]
  },
  {
   "cell_type": "code",
   "execution_count": 7,
   "metadata": {},
   "outputs": [
    {
     "data": {
      "text/plain": [
       " 9.0      0.332236\n",
       " 240.0    0.149555\n",
       "-1.0      0.137439\n",
       " 14.0     0.038609\n",
       " 7.0      0.038029\n",
       "Name: agent, dtype: float64"
      ]
     },
     "execution_count": 7,
     "metadata": {},
     "output_type": "execute_result"
    }
   ],
   "source": [
    "#Looking at the percentages\n",
    "(df['agent'].value_counts()/len(df)).head()"
   ]
  },
  {
   "cell_type": "code",
   "execution_count": 11,
   "metadata": {},
   "outputs": [
    {
     "data": {
      "text/plain": [
       "209         Direct\n",
       "4993        Direct\n",
       "11020    Corporate\n",
       "11369    Corporate\n",
       "11370    Corporate\n",
       "           ...    \n",
       "86238    Online TA\n",
       "86239    Online TA\n",
       "86245    Online TA\n",
       "86246    Online TA\n",
       "86248    Online TA\n",
       "Name: market_segment, Length: 28655, dtype: object"
      ]
     },
     "execution_count": 11,
     "metadata": {},
     "output_type": "execute_result"
    }
   ],
   "source": [
    "df['market_segment'][df['agent']==9]"
   ]
  },
  {
   "cell_type": "markdown",
   "metadata": {},
   "source": [
    "It looks like the majority of the reservations were made through the agencies with id 9 and id 240. The -1 represent missing values. Wondering if it would be a good idea to make the column binary. 1 representing all the reservations made through agencies 9 and 240 and 0 for the rest."
   ]
  },
  {
   "cell_type": "code",
   "execution_count": 6,
   "metadata": {},
   "outputs": [
    {
     "data": {
      "text/plain": [
       "PRT    26618\n",
       "GBR    10378\n",
       "FRA     8788\n",
       "ESP     7192\n",
       "DEU     5369\n",
       "ITA     3049\n",
       "IRL     3011\n",
       "BEL     2074\n",
       "BRA     1987\n",
       "NLD     1907\n",
       "Name: country, dtype: int64"
      ]
     },
     "execution_count": 6,
     "metadata": {},
     "output_type": "execute_result"
    }
   ],
   "source": [
    "#Exploring unique values of the country column\n",
    "df['country'].value_counts().head(10)"
   ]
  },
  {
   "cell_type": "code",
   "execution_count": 7,
   "metadata": {},
   "outputs": [
    {
     "data": {
      "text/plain": [
       "PRT    0.308618\n",
       "GBR    0.120326\n",
       "FRA    0.101891\n",
       "ESP    0.083386\n",
       "DEU    0.062250\n",
       "ITA    0.035351\n",
       "IRL    0.034911\n",
       "BEL    0.024047\n",
       "BRA    0.023038\n",
       "NLD    0.022110\n",
       "Name: country, dtype: float64"
      ]
     },
     "execution_count": 7,
     "metadata": {},
     "output_type": "execute_result"
    }
   ],
   "source": [
    "#Looking at the percentages of the values\n",
    "(df['country'].value_counts()/len(df)).head(10)"
   ]
  },
  {
   "cell_type": "code",
   "execution_count": 9,
   "metadata": {},
   "outputs": [],
   "source": [
    "#Grouping the countries that account for less than 1% of the column into 'Other'\n",
    "pct = (df['country'].value_counts()/len(df))\n",
    "mask = df['country'].isin(pct[pct<0.01].index)\n",
    "df['country'][mask] = 'Other'\n",
    "df['country'].nunique()"
   ]
  },
  {
   "cell_type": "markdown",
   "metadata": {},
   "source": [
    "## Dummy encoding"
   ]
  },
  {
   "cell_type": "code",
   "execution_count": 10,
   "metadata": {},
   "outputs": [],
   "source": [
    "#Defining X\n",
    "X = df.drop('is_canceled', axis=1)\n",
    "\n",
    "#Dummy encoding X\n",
    "X = pd.get_dummies(X, drop_first=True)"
   ]
  },
  {
   "cell_type": "code",
   "execution_count": 11,
   "metadata": {},
   "outputs": [
    {
     "data": {
      "text/plain": [
       "(86249, 78)"
      ]
     },
     "execution_count": 11,
     "metadata": {},
     "output_type": "execute_result"
    }
   ],
   "source": [
    "#Looking at how many columns I'll be working with\n",
    "X.shape"
   ]
  },
  {
   "cell_type": "code",
   "execution_count": 12,
   "metadata": {},
   "outputs": [],
   "source": [
    "#Defining my response variable. Using ravel() to get a flattened array\n",
    "y= df['is_canceled'].ravel()"
   ]
  },
  {
   "cell_type": "markdown",
   "metadata": {},
   "source": [
    "## Splitting the data into training set and test set"
   ]
  },
  {
   "cell_type": "code",
   "execution_count": 13,
   "metadata": {},
   "outputs": [],
   "source": [
    "#Leaving 25% of my data for testing\n",
    "X_train, X_test, y_train, y_test = train_test_split(X,y, test_size=0.25, random_state=12)"
   ]
  },
  {
   "cell_type": "markdown",
   "metadata": {},
   "source": [
    "## Scaling the data"
   ]
  },
  {
   "cell_type": "code",
   "execution_count": 14,
   "metadata": {},
   "outputs": [],
   "source": [
    "#Instantiating a scaler\n",
    "sc = StandardScaler()\n",
    "\n",
    "#Fitting the scaler to the training set and transforming it\n",
    "X_train_scaled = sc.fit_transform(X_train)\n",
    "\n",
    "#Scaling test set\n",
    "X_test_scaled = sc.transform(X_test)"
   ]
  },
  {
   "cell_type": "code",
   "execution_count": null,
   "metadata": {},
   "outputs": [],
   "source": []
  }
 ],
 "metadata": {
  "kernelspec": {
   "display_name": "Python 3",
   "language": "python",
   "name": "python3"
  },
  "language_info": {
   "codemirror_mode": {
    "name": "ipython",
    "version": 3
   },
   "file_extension": ".py",
   "mimetype": "text/x-python",
   "name": "python",
   "nbconvert_exporter": "python",
   "pygments_lexer": "ipython3",
   "version": "3.7.4"
  }
 },
 "nbformat": 4,
 "nbformat_minor": 2
}
