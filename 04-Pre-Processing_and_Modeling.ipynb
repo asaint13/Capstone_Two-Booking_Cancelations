{
 "cells": [
  {
   "cell_type": "markdown",
   "metadata": {},
   "source": [
    "# Pre-Processing\n",
    "\n",
    "This notebook contains the necessary pre-processing steps and modeling steps."
   ]
  },
  {
   "cell_type": "code",
   "execution_count": 32,
   "metadata": {},
   "outputs": [],
   "source": [
    "import numpy as np\n",
    "import pandas as pd\n",
    "import matplotlib.pyplot as plt\n",
    "import seaborn as sns\n",
    "from sklearn.model_selection import train_test_split\n",
    "from sklearn.preprocessing import StandardScaler\n",
    "#import warnings\n",
    "#warnings.filterwarnings('ignore')\n",
    "pd.set_option('display.max_columns', 32)"
   ]
  },
  {
   "cell_type": "code",
   "execution_count": 2,
   "metadata": {},
   "outputs": [
    {
     "data": {
      "text/html": [
       "<div>\n",
       "<style scoped>\n",
       "    .dataframe tbody tr th:only-of-type {\n",
       "        vertical-align: middle;\n",
       "    }\n",
       "\n",
       "    .dataframe tbody tr th {\n",
       "        vertical-align: top;\n",
       "    }\n",
       "\n",
       "    .dataframe thead th {\n",
       "        text-align: right;\n",
       "    }\n",
       "</style>\n",
       "<table border=\"1\" class=\"dataframe\">\n",
       "  <thead>\n",
       "    <tr style=\"text-align: right;\">\n",
       "      <th></th>\n",
       "      <th>hotel</th>\n",
       "      <th>is_canceled</th>\n",
       "      <th>lead_time</th>\n",
       "      <th>arrival_date_year</th>\n",
       "      <th>arrival_date_month</th>\n",
       "      <th>arrival_date_week_number</th>\n",
       "      <th>arrival_date_day_of_month</th>\n",
       "      <th>stays_in_weekend_nights</th>\n",
       "      <th>stays_in_week_nights</th>\n",
       "      <th>adults</th>\n",
       "      <th>children</th>\n",
       "      <th>babies</th>\n",
       "      <th>meal</th>\n",
       "      <th>country</th>\n",
       "      <th>market_segment</th>\n",
       "      <th>is_repeated_guest</th>\n",
       "      <th>previous_cancellations</th>\n",
       "      <th>previous_bookings_not_canceled</th>\n",
       "      <th>reserved_room_type</th>\n",
       "      <th>assigned_room_type</th>\n",
       "      <th>booking_changes</th>\n",
       "      <th>deposit_type</th>\n",
       "      <th>agent</th>\n",
       "      <th>days_in_waiting_list</th>\n",
       "      <th>customer_type</th>\n",
       "      <th>adr</th>\n",
       "      <th>required_car_parking_spaces</th>\n",
       "      <th>total_of_special_requests</th>\n",
       "      <th>reservation_status</th>\n",
       "      <th>reservation_status_date</th>\n",
       "    </tr>\n",
       "  </thead>\n",
       "  <tbody>\n",
       "    <tr>\n",
       "      <th>0</th>\n",
       "      <td>0</td>\n",
       "      <td>0</td>\n",
       "      <td>7</td>\n",
       "      <td>2015</td>\n",
       "      <td>July</td>\n",
       "      <td>27</td>\n",
       "      <td>1</td>\n",
       "      <td>0</td>\n",
       "      <td>1</td>\n",
       "      <td>1</td>\n",
       "      <td>0.0</td>\n",
       "      <td>0</td>\n",
       "      <td>BB</td>\n",
       "      <td>GBR</td>\n",
       "      <td>Direct</td>\n",
       "      <td>0</td>\n",
       "      <td>0</td>\n",
       "      <td>0</td>\n",
       "      <td>A</td>\n",
       "      <td>C</td>\n",
       "      <td>0</td>\n",
       "      <td>No Deposit</td>\n",
       "      <td>-1.0</td>\n",
       "      <td>0</td>\n",
       "      <td>Transient</td>\n",
       "      <td>75.0</td>\n",
       "      <td>0</td>\n",
       "      <td>0</td>\n",
       "      <td>Check-Out</td>\n",
       "      <td>2015-07-02</td>\n",
       "    </tr>\n",
       "    <tr>\n",
       "      <th>1</th>\n",
       "      <td>0</td>\n",
       "      <td>0</td>\n",
       "      <td>13</td>\n",
       "      <td>2015</td>\n",
       "      <td>July</td>\n",
       "      <td>27</td>\n",
       "      <td>1</td>\n",
       "      <td>0</td>\n",
       "      <td>1</td>\n",
       "      <td>1</td>\n",
       "      <td>0.0</td>\n",
       "      <td>0</td>\n",
       "      <td>BB</td>\n",
       "      <td>GBR</td>\n",
       "      <td>Corporate</td>\n",
       "      <td>0</td>\n",
       "      <td>0</td>\n",
       "      <td>0</td>\n",
       "      <td>A</td>\n",
       "      <td>A</td>\n",
       "      <td>0</td>\n",
       "      <td>No Deposit</td>\n",
       "      <td>304.0</td>\n",
       "      <td>0</td>\n",
       "      <td>Transient</td>\n",
       "      <td>75.0</td>\n",
       "      <td>0</td>\n",
       "      <td>0</td>\n",
       "      <td>Check-Out</td>\n",
       "      <td>2015-07-02</td>\n",
       "    </tr>\n",
       "    <tr>\n",
       "      <th>2</th>\n",
       "      <td>0</td>\n",
       "      <td>0</td>\n",
       "      <td>14</td>\n",
       "      <td>2015</td>\n",
       "      <td>July</td>\n",
       "      <td>27</td>\n",
       "      <td>1</td>\n",
       "      <td>0</td>\n",
       "      <td>2</td>\n",
       "      <td>2</td>\n",
       "      <td>0.0</td>\n",
       "      <td>0</td>\n",
       "      <td>BB</td>\n",
       "      <td>GBR</td>\n",
       "      <td>Online TA</td>\n",
       "      <td>0</td>\n",
       "      <td>0</td>\n",
       "      <td>0</td>\n",
       "      <td>A</td>\n",
       "      <td>A</td>\n",
       "      <td>0</td>\n",
       "      <td>No Deposit</td>\n",
       "      <td>240.0</td>\n",
       "      <td>0</td>\n",
       "      <td>Transient</td>\n",
       "      <td>98.0</td>\n",
       "      <td>0</td>\n",
       "      <td>1</td>\n",
       "      <td>Check-Out</td>\n",
       "      <td>2015-07-03</td>\n",
       "    </tr>\n",
       "    <tr>\n",
       "      <th>3</th>\n",
       "      <td>0</td>\n",
       "      <td>0</td>\n",
       "      <td>0</td>\n",
       "      <td>2015</td>\n",
       "      <td>July</td>\n",
       "      <td>27</td>\n",
       "      <td>1</td>\n",
       "      <td>0</td>\n",
       "      <td>2</td>\n",
       "      <td>2</td>\n",
       "      <td>0.0</td>\n",
       "      <td>0</td>\n",
       "      <td>BB</td>\n",
       "      <td>PRT</td>\n",
       "      <td>Direct</td>\n",
       "      <td>0</td>\n",
       "      <td>0</td>\n",
       "      <td>0</td>\n",
       "      <td>C</td>\n",
       "      <td>C</td>\n",
       "      <td>0</td>\n",
       "      <td>No Deposit</td>\n",
       "      <td>-1.0</td>\n",
       "      <td>0</td>\n",
       "      <td>Transient</td>\n",
       "      <td>107.0</td>\n",
       "      <td>0</td>\n",
       "      <td>0</td>\n",
       "      <td>Check-Out</td>\n",
       "      <td>2015-07-03</td>\n",
       "    </tr>\n",
       "    <tr>\n",
       "      <th>4</th>\n",
       "      <td>0</td>\n",
       "      <td>0</td>\n",
       "      <td>9</td>\n",
       "      <td>2015</td>\n",
       "      <td>July</td>\n",
       "      <td>27</td>\n",
       "      <td>1</td>\n",
       "      <td>0</td>\n",
       "      <td>2</td>\n",
       "      <td>2</td>\n",
       "      <td>0.0</td>\n",
       "      <td>0</td>\n",
       "      <td>FB</td>\n",
       "      <td>PRT</td>\n",
       "      <td>Direct</td>\n",
       "      <td>0</td>\n",
       "      <td>0</td>\n",
       "      <td>0</td>\n",
       "      <td>C</td>\n",
       "      <td>C</td>\n",
       "      <td>0</td>\n",
       "      <td>No Deposit</td>\n",
       "      <td>303.0</td>\n",
       "      <td>0</td>\n",
       "      <td>Transient</td>\n",
       "      <td>103.0</td>\n",
       "      <td>0</td>\n",
       "      <td>1</td>\n",
       "      <td>Check-Out</td>\n",
       "      <td>2015-07-03</td>\n",
       "    </tr>\n",
       "  </tbody>\n",
       "</table>\n",
       "</div>"
      ],
      "text/plain": [
       "   hotel  is_canceled  lead_time  arrival_date_year arrival_date_month  \\\n",
       "0      0            0          7               2015               July   \n",
       "1      0            0         13               2015               July   \n",
       "2      0            0         14               2015               July   \n",
       "3      0            0          0               2015               July   \n",
       "4      0            0          9               2015               July   \n",
       "\n",
       "   arrival_date_week_number  arrival_date_day_of_month  \\\n",
       "0                        27                          1   \n",
       "1                        27                          1   \n",
       "2                        27                          1   \n",
       "3                        27                          1   \n",
       "4                        27                          1   \n",
       "\n",
       "   stays_in_weekend_nights  stays_in_week_nights  adults  children  babies  \\\n",
       "0                        0                     1       1       0.0       0   \n",
       "1                        0                     1       1       0.0       0   \n",
       "2                        0                     2       2       0.0       0   \n",
       "3                        0                     2       2       0.0       0   \n",
       "4                        0                     2       2       0.0       0   \n",
       "\n",
       "  meal country market_segment  is_repeated_guest  previous_cancellations  \\\n",
       "0   BB     GBR         Direct                  0                       0   \n",
       "1   BB     GBR      Corporate                  0                       0   \n",
       "2   BB     GBR      Online TA                  0                       0   \n",
       "3   BB     PRT         Direct                  0                       0   \n",
       "4   FB     PRT         Direct                  0                       0   \n",
       "\n",
       "   previous_bookings_not_canceled reserved_room_type assigned_room_type  \\\n",
       "0                               0                  A                  C   \n",
       "1                               0                  A                  A   \n",
       "2                               0                  A                  A   \n",
       "3                               0                  C                  C   \n",
       "4                               0                  C                  C   \n",
       "\n",
       "   booking_changes deposit_type  agent  days_in_waiting_list customer_type  \\\n",
       "0                0   No Deposit   -1.0                     0     Transient   \n",
       "1                0   No Deposit  304.0                     0     Transient   \n",
       "2                0   No Deposit  240.0                     0     Transient   \n",
       "3                0   No Deposit   -1.0                     0     Transient   \n",
       "4                0   No Deposit  303.0                     0     Transient   \n",
       "\n",
       "     adr  required_car_parking_spaces  total_of_special_requests  \\\n",
       "0   75.0                            0                          0   \n",
       "1   75.0                            0                          0   \n",
       "2   98.0                            0                          1   \n",
       "3  107.0                            0                          0   \n",
       "4  103.0                            0                          1   \n",
       "\n",
       "  reservation_status reservation_status_date  \n",
       "0          Check-Out              2015-07-02  \n",
       "1          Check-Out              2015-07-02  \n",
       "2          Check-Out              2015-07-03  \n",
       "3          Check-Out              2015-07-03  \n",
       "4          Check-Out              2015-07-03  "
      ]
     },
     "execution_count": 2,
     "metadata": {},
     "output_type": "execute_result"
    }
   ],
   "source": [
    "#Loading data\n",
    "bookings = pd.read_csv('post_eda_bookings.csv')\n",
    "bookings.head()"
   ]
  },
  {
   "cell_type": "markdown",
   "metadata": {},
   "source": [
    "## Feature Reduction"
   ]
  },
  {
   "cell_type": "code",
   "execution_count": 3,
   "metadata": {},
   "outputs": [
    {
     "name": "stdout",
     "output_type": "stream",
     "text": [
      "<class 'pandas.core.frame.DataFrame'>\n",
      "RangeIndex: 86249 entries, 0 to 86248\n",
      "Data columns (total 30 columns):\n",
      " #   Column                          Non-Null Count  Dtype  \n",
      "---  ------                          --------------  -----  \n",
      " 0   hotel                           86249 non-null  int64  \n",
      " 1   is_canceled                     86249 non-null  int64  \n",
      " 2   lead_time                       86249 non-null  int64  \n",
      " 3   arrival_date_year               86249 non-null  int64  \n",
      " 4   arrival_date_month              86249 non-null  object \n",
      " 5   arrival_date_week_number        86249 non-null  int64  \n",
      " 6   arrival_date_day_of_month       86249 non-null  int64  \n",
      " 7   stays_in_weekend_nights         86249 non-null  int64  \n",
      " 8   stays_in_week_nights            86249 non-null  int64  \n",
      " 9   adults                          86249 non-null  int64  \n",
      " 10  children                        86249 non-null  float64\n",
      " 11  babies                          86249 non-null  int64  \n",
      " 12  meal                            86249 non-null  object \n",
      " 13  country                         86249 non-null  object \n",
      " 14  market_segment                  86249 non-null  object \n",
      " 15  is_repeated_guest               86249 non-null  int64  \n",
      " 16  previous_cancellations          86249 non-null  int64  \n",
      " 17  previous_bookings_not_canceled  86249 non-null  int64  \n",
      " 18  reserved_room_type              86249 non-null  object \n",
      " 19  assigned_room_type              86249 non-null  object \n",
      " 20  booking_changes                 86249 non-null  int64  \n",
      " 21  deposit_type                    86249 non-null  object \n",
      " 22  agent                           86249 non-null  float64\n",
      " 23  days_in_waiting_list            86249 non-null  int64  \n",
      " 24  customer_type                   86249 non-null  object \n",
      " 25  adr                             86249 non-null  float64\n",
      " 26  required_car_parking_spaces     86249 non-null  int64  \n",
      " 27  total_of_special_requests       86249 non-null  int64  \n",
      " 28  reservation_status              86249 non-null  object \n",
      " 29  reservation_status_date         86249 non-null  object \n",
      "dtypes: float64(3), int64(17), object(10)\n",
      "memory usage: 19.7+ MB\n"
     ]
    }
   ],
   "source": [
    "#Exploring columns\n",
    "bookings.info()"
   ]
  },
  {
   "cell_type": "code",
   "execution_count": 4,
   "metadata": {},
   "outputs": [
    {
     "data": {
      "text/plain": [
       "arrival_date_month          12\n",
       "meal                         4\n",
       "country                    178\n",
       "market_segment               8\n",
       "reserved_room_type          10\n",
       "assigned_room_type          12\n",
       "deposit_type                 3\n",
       "customer_type                4\n",
       "reservation_status           3\n",
       "reservation_status_date    924\n",
       "agent                      334\n",
       "dtype: int64"
      ]
     },
     "execution_count": 4,
     "metadata": {},
     "output_type": "execute_result"
    }
   ],
   "source": [
    "#Looking at the number of unique values for categorical features. Including agent id column\n",
    "cat = list(bookings.select_dtypes(include=['object']).columns)\n",
    "cat.append('agent')\n",
    "bookings[cat].nunique()"
   ]
  },
  {
   "cell_type": "markdown",
   "metadata": {},
   "source": [
    "I'll take a look at the country column and try to reduce the number of unique values. I'm also taking a look at the agent column. The agent column is a numeric id for the travel agency that booked the reservation. I want to see if there's a particular agency that's used more frequently than others. I'm getting rid of reservation_statatus_date and the reservation_status columns. The relevant information for what happened with a reservation is already stored in the is_canceled column. "
   ]
  },
  {
   "cell_type": "code",
   "execution_count": 5,
   "metadata": {},
   "outputs": [],
   "source": [
    "#Dropping unnecessary columns\n",
    "df= bookings.drop(['reservation_status', 'reservation_status_date'], axis=1)"
   ]
  },
  {
   "cell_type": "markdown",
   "metadata": {},
   "source": [
    "### agent column"
   ]
  },
  {
   "cell_type": "code",
   "execution_count": 6,
   "metadata": {},
   "outputs": [
    {
     "data": {
      "text/plain": [
       " 9.0      28655\n",
       " 240.0    12899\n",
       "-1.0      11854\n",
       " 14.0      3330\n",
       " 7.0       3280\n",
       "Name: agent, dtype: int64"
      ]
     },
     "execution_count": 6,
     "metadata": {},
     "output_type": "execute_result"
    }
   ],
   "source": [
    "#Looking at the count of the values\n",
    "df['agent'].value_counts().head()"
   ]
  },
  {
   "cell_type": "code",
   "execution_count": 7,
   "metadata": {},
   "outputs": [
    {
     "data": {
      "text/plain": [
       " 9.0      0.332236\n",
       " 240.0    0.149555\n",
       "-1.0      0.137439\n",
       " 14.0     0.038609\n",
       " 7.0      0.038029\n",
       "Name: agent, dtype: float64"
      ]
     },
     "execution_count": 7,
     "metadata": {},
     "output_type": "execute_result"
    }
   ],
   "source": [
    "#Looking at the percentages\n",
    "(df['agent'].value_counts()/len(df)).head()"
   ]
  },
  {
   "cell_type": "code",
   "execution_count": 8,
   "metadata": {},
   "outputs": [
    {
     "data": {
      "text/plain": [
       "209         Direct\n",
       "4993        Direct\n",
       "11020    Corporate\n",
       "11369    Corporate\n",
       "11370    Corporate\n",
       "           ...    \n",
       "86238    Online TA\n",
       "86239    Online TA\n",
       "86245    Online TA\n",
       "86246    Online TA\n",
       "86248    Online TA\n",
       "Name: market_segment, Length: 28655, dtype: object"
      ]
     },
     "execution_count": 8,
     "metadata": {},
     "output_type": "execute_result"
    }
   ],
   "source": [
    "df['market_segment'][df['agent']==9]"
   ]
  },
  {
   "cell_type": "markdown",
   "metadata": {},
   "source": [
    "It looks like the majority of the reservations were made through the agencies with id 9 and id 240. The -1 represent missing values. I'll simplify the column using 0, 1 and 2. 1 representing all the reservations made through agency 9, 2 for reservations made through agency 240 and 0 for the rest."
   ]
  },
  {
   "cell_type": "code",
   "execution_count": 9,
   "metadata": {},
   "outputs": [],
   "source": [
    "df['agent'] = df['agent'].apply(lambda x: 1 if x==9 else (2 if x==240 else 0))"
   ]
  },
  {
   "cell_type": "markdown",
   "metadata": {},
   "source": [
    "### country column"
   ]
  },
  {
   "cell_type": "code",
   "execution_count": 10,
   "metadata": {},
   "outputs": [
    {
     "data": {
      "text/plain": [
       "PRT    26618\n",
       "GBR    10378\n",
       "FRA     8788\n",
       "ESP     7192\n",
       "DEU     5369\n",
       "ITA     3049\n",
       "IRL     3011\n",
       "BEL     2074\n",
       "BRA     1987\n",
       "NLD     1907\n",
       "Name: country, dtype: int64"
      ]
     },
     "execution_count": 10,
     "metadata": {},
     "output_type": "execute_result"
    }
   ],
   "source": [
    "#Exploring unique values of the country column\n",
    "df['country'].value_counts().head(10)"
   ]
  },
  {
   "cell_type": "code",
   "execution_count": 11,
   "metadata": {},
   "outputs": [
    {
     "data": {
      "text/plain": [
       "PRT    0.308618\n",
       "GBR    0.120326\n",
       "FRA    0.101891\n",
       "ESP    0.083386\n",
       "DEU    0.062250\n",
       "ITA    0.035351\n",
       "IRL    0.034911\n",
       "BEL    0.024047\n",
       "BRA    0.023038\n",
       "NLD    0.022110\n",
       "Name: country, dtype: float64"
      ]
     },
     "execution_count": 11,
     "metadata": {},
     "output_type": "execute_result"
    }
   ],
   "source": [
    "#Looking at the percentages of the values\n",
    "(df['country'].value_counts()/len(df)).head(10)"
   ]
  },
  {
   "cell_type": "code",
   "execution_count": 12,
   "metadata": {},
   "outputs": [
    {
     "name": "stderr",
     "output_type": "stream",
     "text": [
      "C:\\Users\\saint\\Anaconda3\\lib\\site-packages\\ipykernel_launcher.py:4: SettingWithCopyWarning: \n",
      "A value is trying to be set on a copy of a slice from a DataFrame\n",
      "\n",
      "See the caveats in the documentation: https://pandas.pydata.org/pandas-docs/stable/user_guide/indexing.html#returning-a-view-versus-a-copy\n",
      "  after removing the cwd from sys.path.\n"
     ]
    },
    {
     "data": {
      "text/plain": [
       "15"
      ]
     },
     "execution_count": 12,
     "metadata": {},
     "output_type": "execute_result"
    }
   ],
   "source": [
    "#Grouping the countries that account for less than 1% of the column into 'Other'\n",
    "pct = (df['country'].value_counts()/len(df))\n",
    "mask = df['country'].isin(pct[pct<0.01].index)\n",
    "df['country'][mask] = 'Other'\n",
    "df['country'].nunique()"
   ]
  },
  {
   "cell_type": "markdown",
   "metadata": {},
   "source": [
    "## Dummy encoding"
   ]
  },
  {
   "cell_type": "code",
   "execution_count": 13,
   "metadata": {},
   "outputs": [],
   "source": [
    "#Defining X\n",
    "X = df.drop('is_canceled', axis=1)\n",
    "\n",
    "#Dummy encoding X\n",
    "X = pd.get_dummies(X, drop_first=True)"
   ]
  },
  {
   "cell_type": "code",
   "execution_count": 14,
   "metadata": {},
   "outputs": [
    {
     "data": {
      "text/plain": [
       "(86249, 79)"
      ]
     },
     "execution_count": 14,
     "metadata": {},
     "output_type": "execute_result"
    }
   ],
   "source": [
    "#Looking at how many columns I'll be working with\n",
    "X.shape"
   ]
  },
  {
   "cell_type": "code",
   "execution_count": 15,
   "metadata": {},
   "outputs": [],
   "source": [
    "#Defining my response variable. Using ravel() to get a flattened array\n",
    "y= df['is_canceled'].ravel()"
   ]
  },
  {
   "cell_type": "markdown",
   "metadata": {},
   "source": [
    "## Splitting the data into training set and test set"
   ]
  },
  {
   "cell_type": "code",
   "execution_count": 16,
   "metadata": {},
   "outputs": [],
   "source": [
    "#Leaving 25% of my data for testing\n",
    "X_train, X_test, y_train, y_test = train_test_split(X,y, test_size=0.25, random_state=12)"
   ]
  },
  {
   "cell_type": "markdown",
   "metadata": {},
   "source": [
    "## Scaling the data"
   ]
  },
  {
   "cell_type": "code",
   "execution_count": 17,
   "metadata": {},
   "outputs": [],
   "source": [
    "#Instantiating a scaler\n",
    "sc = StandardScaler()\n",
    "\n",
    "#Fitting the scaler to the training set and transforming it\n",
    "X_train_scaled = sc.fit_transform(X_train)\n",
    "\n",
    "#Scaling test set\n",
    "X_test_scaled = sc.transform(X_test)"
   ]
  },
  {
   "cell_type": "markdown",
   "metadata": {},
   "source": [
    "# Modeling\n",
    "\n",
    "The steps below will invove modeling, model selection and model evaluation. I'll be using the following models:\n",
    "\n",
    "* Logistic Regression\n",
    "* Random Forest\n",
    "* Adaptive Boosting\n",
    "* Extreme Gradient Boosting"
   ]
  },
  {
   "cell_type": "markdown",
   "metadata": {},
   "source": [
    "## Logisitc Regression"
   ]
  },
  {
   "cell_type": "code",
   "execution_count": 18,
   "metadata": {},
   "outputs": [
    {
     "name": "stdout",
     "output_type": "stream",
     "text": [
      "{'C': 100}\n",
      "Best accuracy using logistic regression: 0.7995547885824991\n"
     ]
    },
    {
     "name": "stderr",
     "output_type": "stream",
     "text": [
      "C:\\Users\\saint\\Anaconda3\\lib\\site-packages\\sklearn\\linear_model\\_logistic.py:764: ConvergenceWarning: lbfgs failed to converge (status=1):\n",
      "STOP: TOTAL NO. of ITERATIONS REACHED LIMIT.\n",
      "\n",
      "Increase the number of iterations (max_iter) or scale the data as shown in:\n",
      "    https://scikit-learn.org/stable/modules/preprocessing.html\n",
      "Please also refer to the documentation for alternative solver options:\n",
      "    https://scikit-learn.org/stable/modules/linear_model.html#logistic-regression\n",
      "  extra_warning_msg=_LOGISTIC_SOLVER_CONVERGENCE_MSG)\n"
     ]
    }
   ],
   "source": [
    "from sklearn.linear_model import LogisticRegression\n",
    "from sklearn.model_selection import GridSearchCV\n",
    "from sklearn.model_selection import RandomizedSearchCV\n",
    "\n",
    "#Only tuning C for my Logistic Regression model\n",
    "params = {'C':[0.001,0.01,0.1,1,10,100]}\n",
    "logreg = LogisticRegression(random_state=21)\n",
    "\n",
    "logreg_cv = GridSearchCV(logreg, param_grid=params, scoring='accuracy', n_jobs=-1, cv=5)\n",
    "logreg_cv.fit(X_train_scaled, y_train)\n",
    "\n",
    "print(logreg_cv.best_params_)\n",
    "print('Best accuracy using logistic regression: {}'.format(logreg_cv.best_score_))"
   ]
  },
  {
   "cell_type": "markdown",
   "metadata": {},
   "source": [
    "## Random Forest"
   ]
  },
  {
   "cell_type": "code",
   "execution_count": 20,
   "metadata": {},
   "outputs": [
    {
     "name": "stdout",
     "output_type": "stream",
     "text": [
      "Fitting 4 folds for each of 100 candidates, totalling 400 fits\n"
     ]
    },
    {
     "name": "stderr",
     "output_type": "stream",
     "text": [
      "[Parallel(n_jobs=-1)]: Using backend LokyBackend with 4 concurrent workers.\n",
      "[Parallel(n_jobs=-1)]: Done  42 tasks      | elapsed:  4.9min\n",
      "[Parallel(n_jobs=-1)]: Done 192 tasks      | elapsed: 23.0min\n",
      "[Parallel(n_jobs=-1)]: Done 400 out of 400 | elapsed: 45.4min finished\n"
     ]
    },
    {
     "name": "stdout",
     "output_type": "stream",
     "text": [
      "{'n_estimators': 500, 'min_samples_split': 8, 'min_samples_leaf': 1, 'max_depth': None, 'criterion': 'entropy'}\n",
      "Best accuracy using random forest: 0.849302765545875\n"
     ]
    }
   ],
   "source": [
    "from sklearn.ensemble import RandomForestClassifier\n",
    "\n",
    "#Parameters grid for random forest model\n",
    "params_rf = {'n_estimators':np.arange(100,600,100), 'criterion':['gini', 'entropy'], 'max_depth' :[5, 10, 15, 25, 30, None],\n",
    "            'min_samples_split':np.arange(2,11,2), 'min_samples_leaf':np.arange(1,11,1)}\n",
    "rf = RandomForestClassifier(random_state=21)\n",
    "\n",
    "randomized_rf = RandomizedSearchCV(rf, param_distributions=params_rf, n_iter=100, cv=4, scoring='accuracy', \n",
    "                                   n_jobs=-1, verbose=1)\n",
    "randomized_rf.fit(X_train_scaled, y_train)\n",
    "print(randomized_rf.best_params_)\n",
    "print('Best accuracy using random forest: {}'.format(randomized_rf.best_score_))"
   ]
  },
  {
   "cell_type": "code",
   "execution_count": null,
   "metadata": {},
   "outputs": [],
   "source": [
    "randomized_rf"
   ]
  },
  {
   "cell_type": "markdown",
   "metadata": {},
   "source": [
    "## Adaptive Boosting"
   ]
  },
  {
   "cell_type": "code",
   "execution_count": 21,
   "metadata": {},
   "outputs": [
    {
     "name": "stdout",
     "output_type": "stream",
     "text": [
      "Fitting 5 folds for each of 15 candidates, totalling 75 fits\n"
     ]
    },
    {
     "name": "stderr",
     "output_type": "stream",
     "text": [
      "[Parallel(n_jobs=-1)]: Using backend LokyBackend with 4 concurrent workers.\n",
      "[Parallel(n_jobs=-1)]: Done  42 tasks      | elapsed: 10.2min\n",
      "[Parallel(n_jobs=-1)]: Done  75 out of  75 | elapsed: 18.2min finished\n"
     ]
    },
    {
     "name": "stdout",
     "output_type": "stream",
     "text": [
      "{'n_estimators': 500, 'learning_rate': 0.8500000000000001}\n",
      "Best accuracy using adaptive boosting: 0.8144421029971364\n"
     ]
    }
   ],
   "source": [
    "from sklearn.ensemble import AdaBoostClassifier\n",
    "\n",
    "#Parameters for the adaptive boosting model\n",
    "params_ada = {'n_estimators':np.arange(100,600,100), 'learning_rate': np.arange(0.05,1.05,.05)}\n",
    "\n",
    "ada = AdaBoostClassifier(random_state=21)\n",
    "\n",
    "randomized_ada = RandomizedSearchCV(ada, param_distributions=params_ada, n_iter=15, cv=5, scoring='accuracy', \n",
    "                                    n_jobs=-1, verbose=1)\n",
    "randomized_ada.fit(X_train_scaled, y_train)\n",
    "print(randomized_ada.best_params_)\n",
    "print('Best accuracy using adaptive boosting: {}'.format(randomized_ada.best_score_))"
   ]
  },
  {
   "cell_type": "markdown",
   "metadata": {},
   "source": [
    "## Extreme Gradient Boosting"
   ]
  },
  {
   "cell_type": "code",
   "execution_count": 22,
   "metadata": {},
   "outputs": [
    {
     "name": "stderr",
     "output_type": "stream",
     "text": [
      "C:\\Users\\saint\\Anaconda3\\lib\\site-packages\\dask\\dataframe\\utils.py:14: FutureWarning: pandas.util.testing is deprecated. Use the functions in the public API at pandas.testing instead.\n",
      "  import pandas.util.testing as tm\n"
     ]
    },
    {
     "name": "stdout",
     "output_type": "stream",
     "text": [
      "Fitting 5 folds for each of 100 candidates, totalling 500 fits\n"
     ]
    },
    {
     "name": "stderr",
     "output_type": "stream",
     "text": [
      "[Parallel(n_jobs=-1)]: Using backend LokyBackend with 4 concurrent workers.\n",
      "[Parallel(n_jobs=-1)]: Done  42 tasks      | elapsed:  6.4min\n",
      "[Parallel(n_jobs=-1)]: Done 192 tasks      | elapsed: 26.0min\n",
      "[Parallel(n_jobs=-1)]: Done 442 tasks      | elapsed: 57.2min\n",
      "[Parallel(n_jobs=-1)]: Done 500 out of 500 | elapsed: 65.6min finished\n"
     ]
    },
    {
     "name": "stdout",
     "output_type": "stream",
     "text": [
      "{'subsample': 0.6000000000000001, 'reg_lambda': 4.0, 'reg_alpha': 0.75, 'n_estimators': 600, 'min_child_weight': 1, 'max_depth': 15, 'learning_rate': 0.05, 'gamma': 2, 'colsample_bytree': 0.7000000000000002}\n",
      "Best accuracy using extreme gradient boosting: 0.8506323048855393\n"
     ]
    }
   ],
   "source": [
    "import xgboost as xgb\n",
    "\n",
    "#Parameters for the xgboost model\n",
    "params_xgb = {'learning_rate':np.arange(0.05,1.05,.05), 'max_depth' :[5, 10, 15, 25, 30], \n",
    "             'gamma':[0.01, 0.1, 0.3, 0.5, 1, 1.5, 2],\n",
    "             'n_estimators':np.arange(100,1001,100), 'subsample':np.arange(0.2,1.1,0.1), \n",
    "              'colsample_bytree':np.arange(0.2,1.1,0.1), 'reg_alpha': np.arange(0,1.1, 0.25),\n",
    "              'reg_lambda': np.arange(1,5.5,0.5), 'min_child_weight':np.arange(1,9,2)}\n",
    "\n",
    "xgb = xgb.XGBClassifier(objective= 'binary:logistic', tree_method = \"hist\", predictor = \"cpu_predictor\",\n",
    "                        random_state=21)\n",
    "\n",
    "randomized_xgb = RandomizedSearchCV(xgb, param_distributions=params_xgb, n_iter=100, cv=5, scoring='accuracy', n_jobs=-1,\n",
    "                                   verbose=1)\n",
    "randomized_xgb.fit(X_train_scaled, y_train)\n",
    "print(randomized_xgb.best_params_)\n",
    "print('Best accuracy using extreme gradient boosting: {}'.format(randomized_xgb.best_score_))"
   ]
  },
  {
   "cell_type": "code",
   "execution_count": 25,
   "metadata": {},
   "outputs": [
    {
     "data": {
      "text/html": [
       "<div>\n",
       "<style scoped>\n",
       "    .dataframe tbody tr th:only-of-type {\n",
       "        vertical-align: middle;\n",
       "    }\n",
       "\n",
       "    .dataframe tbody tr th {\n",
       "        vertical-align: top;\n",
       "    }\n",
       "\n",
       "    .dataframe thead th {\n",
       "        text-align: right;\n",
       "    }\n",
       "</style>\n",
       "<table border=\"1\" class=\"dataframe\">\n",
       "  <thead>\n",
       "    <tr style=\"text-align: right;\">\n",
       "      <th></th>\n",
       "      <th>Models</th>\n",
       "      <th>Accuracy_Scores</th>\n",
       "    </tr>\n",
       "  </thead>\n",
       "  <tbody>\n",
       "    <tr>\n",
       "      <th>0</th>\n",
       "      <td>Linear Regression</td>\n",
       "      <td>0.799555</td>\n",
       "    </tr>\n",
       "    <tr>\n",
       "      <th>2</th>\n",
       "      <td>Adaptive Boosting</td>\n",
       "      <td>0.814442</td>\n",
       "    </tr>\n",
       "    <tr>\n",
       "      <th>1</th>\n",
       "      <td>Random Forest</td>\n",
       "      <td>0.849303</td>\n",
       "    </tr>\n",
       "    <tr>\n",
       "      <th>3</th>\n",
       "      <td>Extreme Gradient Boosting</td>\n",
       "      <td>0.850632</td>\n",
       "    </tr>\n",
       "  </tbody>\n",
       "</table>\n",
       "</div>"
      ],
      "text/plain": [
       "                      Models  Accuracy_Scores\n",
       "0          Linear Regression         0.799555\n",
       "2          Adaptive Boosting         0.814442\n",
       "1              Random Forest         0.849303\n",
       "3  Extreme Gradient Boosting         0.850632"
      ]
     },
     "execution_count": 25,
     "metadata": {},
     "output_type": "execute_result"
    }
   ],
   "source": [
    "pd.DataFrame({'Models':['Linear Regression', 'Random Forest', 'Adaptive Boosting', 'Extreme Gradient Boosting'], \n",
    "              'Accuracy_Scores':[logreg_cv.best_score_, randomized_rf.best_score_, randomized_ada.best_score_, \n",
    "                                 randomized_xgb.best_score_]}).sort_values(by=['Accuracy_Scores'])"
   ]
  },
  {
   "cell_type": "markdown",
   "metadata": {},
   "source": [
    "Since the accuracy scores of the Random Forest and the Extreme Gradient Boosting models are fairly close I'll look deeper in those. In the next steps I'll create a new models using the best parameters found through the random search cross validation and proceed to look into their:\n",
    "* Classification Reports\n",
    "* Confusion Matrices\n",
    "* ROC AUC Curves\n",
    "* Precision vs Recall Curves\n",
    "* Feature Importance Plots"
   ]
  },
  {
   "cell_type": "markdown",
   "metadata": {},
   "source": [
    "# Optimal Random Forest"
   ]
  },
  {
   "cell_type": "code",
   "execution_count": 28,
   "metadata": {},
   "outputs": [],
   "source": [
    "rfo = RandomForestClassifier(random_state=21,n_estimators=500, min_samples_split= 8, min_samples_leaf=1, \n",
    "                             max_depth=None, criterion='entropy')\n",
    "rfo.fit(X_train_scaled, y_train)\n",
    "y_pred_rf = rfo.predict(X_test_scaled)"
   ]
  },
  {
   "cell_type": "markdown",
   "metadata": {},
   "source": [
    "### Classification Report"
   ]
  },
  {
   "cell_type": "code",
   "execution_count": 30,
   "metadata": {},
   "outputs": [
    {
     "name": "stdout",
     "output_type": "stream",
     "text": [
      "Accuracy: 0.8552\n",
      "              precision    recall  f1-score   support\n",
      "\n",
      "           0       0.88      0.92      0.90     15683\n",
      "           1       0.77      0.67      0.72      5880\n",
      "\n",
      "    accuracy                           0.86     21563\n",
      "   macro avg       0.83      0.80      0.81     21563\n",
      "weighted avg       0.85      0.86      0.85     21563\n",
      "\n"
     ]
    }
   ],
   "source": [
    "from sklearn.metrics import classification_report, accuracy_score\n",
    "print('Accuracy: {}'.format(round(accuracy_score(y_test, y_pred_rf),4)))\n",
    "print(classification_report(y_test, y_pred_rf))"
   ]
  },
  {
   "cell_type": "markdown",
   "metadata": {},
   "source": [
    "### Confussion Matrix"
   ]
  },
  {
   "cell_type": "code",
   "execution_count": 33,
   "metadata": {},
   "outputs": [
    {
     "name": "stdout",
     "output_type": "stream",
     "text": [
      "Confusion matrix, without normalization\n",
      "[[14495  1188]\n",
      " [ 1934  3946]]\n",
      "Normalized confusion matrix\n",
      "[[0.92 0.08]\n",
      " [0.33 0.67]]\n"
     ]
    },
    {
     "data": {
      "image/png": "[encoded data removed]",
      "text/plain": [
       "<Figure size 432x288 with 2 Axes>"
      ]
     },
     "metadata": {
      "needs_background": "light"
     },
     "output_type": "display_data"
    },
    {
     "data": {
      "image/png": "[encoded data removed]",
      "text/plain": [
       "<Figure size 432x288 with 2 Axes>"
      ]
     },
     "metadata": {
      "needs_background": "light"
     },
     "output_type": "display_data"
    }
   ],
   "source": [
    "class_names=[0,1]\n",
    "from sklearn.metrics import confusion_matrix, plot_confusion_matrix\n",
    "\n",
    "cm = confusion_matrix(y_test, y_pred_rf) #confusion matrix without normalization\n",
    "cm_norm = cm / cm.astype(np.float).sum(axis=1, keepdims=True) #normalizing the matrix\n",
    "np.set_printoptions(precision=2)\n",
    "\n",
    "titles_options = [(\"Confusion matrix, without normalization\", None),\n",
    "                  (\"Normalized confusion matrix\", 'true')]\n",
    "\n",
    "#Using plot_confusion_matrix for better visualization\n",
    "for title, normalize in titles_options:\n",
    "    disp = plot_confusion_matrix(rfo, X_test_scaled, y_test,\n",
    "                                 display_labels=class_names,\n",
    "                                 cmap=plt.cm.Blues,\n",
    "                                 normalize=normalize)\n",
    "    disp.ax_.set_title(title)\n",
    "\n",
    "    print(title)\n",
    "    print(disp.confusion_matrix)\n",
    "\n",
    "plt.show()"
   ]
  },
  {
   "cell_type": "markdown",
   "metadata": {},
   "source": [
    "### ROC AUC Curve"
   ]
  },
  {
   "cell_type": "code",
   "execution_count": 34,
   "metadata": {},
   "outputs": [
    {
     "name": "stdout",
     "output_type": "stream",
     "text": [
      "Area under the ROC Curve for Random Forest model: 0.7976688111959699\n"
     ]
    }
   ],
   "source": [
    "from sklearn.metrics import roc_curve, roc_auc_score, auc\n",
    "print('Area under the ROC Curve for Random Forest model: {}'.format(roc_auc_score(y_test, y_pred_rf)))"
   ]
  },
  {
   "cell_type": "code",
   "execution_count": 42,
   "metadata": {},
   "outputs": [
    {
     "data": {
      "image/png": "[encoded data removed]",
      "text/plain": [
       "<Figure size 720x576 with 1 Axes>"
      ]
     },
     "metadata": {},
     "output_type": "display_data"
    }
   ],
   "source": [
    "#Plotting the ROC Curve of the Random Forest model\n",
    "y_pred_prob_rf = rfo.predict_proba(X_test_scaled)[:,1]\n",
    "fpr, tpr, thresholds = roc_curve(y_test, y_pred_prob_rf)\n",
    "sns.set()\n",
    "plt.figure(figsize=(10,8))\n",
    "plt.plot([0, 1], [0, 1], 'k--')\n",
    "plt.plot(fpr, tpr, label='Random Forest')\n",
    "plt.xlabel('False Positive Rate')\n",
    "plt.ylabel('True Positive Rate')\n",
    "plt.title('Random Forest ROC Curve')\n",
    "plt.show()"
   ]
  },
  {
   "cell_type": "markdown",
   "metadata": {},
   "source": [
    "### Precision/Recall Curve"
   ]
  },
  {
   "cell_type": "code",
   "execution_count": 41,
   "metadata": {},
   "outputs": [
    {
     "name": "stdout",
     "output_type": "stream",
     "text": [
      "Area under the Precision/Recall Curve for the Random Forest model: 0.8127188172285718\n"
     ]
    }
   ],
   "source": [
    "from sklearn.metrics import precision_recall_curve\n",
    "precision, recall, thresholds = precision_recall_curve(y_test,y_pred_prob_rf)\n",
    "print('Area under the Precision/Recall Curve for the Random Forest model: {}'.format(auc(recall, precision)))"
   ]
  },
  {
   "cell_type": "code",
   "execution_count": 43,
   "metadata": {},
   "outputs": [
    {
     "data": {
      "image/png": "[encoded data removed]",
      "text/plain": [
       "<Figure size 720x576 with 1 Axes>"
      ]
     },
     "metadata": {},
     "output_type": "display_data"
    }
   ],
   "source": [
    "#Plotting the Precision/Recall Curve of the Random Forest model\n",
    "plt.figure(figsize=(10,8))\n",
    "plt.plot([0, 1], [0.5,0.5], 'k--')\n",
    "plt.plot(recall, precision)\n",
    "plt.xlabel('Recall')\n",
    "plt.ylabel('Precision')\n",
    "plt.title('Random Forest Precision/Recall Curve')\n",
    "plt.show()"
   ]
  },
  {
   "cell_type": "markdown",
   "metadata": {},
   "source": [
    "### Feature Importance Plot"
   ]
  },
  {
   "cell_type": "code",
   "execution_count": 45,
   "metadata": {},
   "outputs": [
    {
     "data": {
      "image/png": "[encoded data removed]",
      "text/plain": [
       "<Figure size 864x720 with 1 Axes>"
      ]
     },
     "metadata": {},
     "output_type": "display_data"
    }
   ],
   "source": [
    "#Getting the name of my features\n",
    "features = X.columns\n",
    "#Getting the importance of the top 25 features\n",
    "feature_importance = rfo.feature_importances_[:25]\n",
    "indices = np.argsort(feature_importance)[:25]\n",
    "\n",
    "plt.figure(figsize=(12,10))\n",
    "plt.title('Feature Importances')\n",
    "plt.barh(range(len(indices)), feature_importance[indices], color='b', align='center')\n",
    "plt.yticks(range(len(indices)), [features[i] for i in indices])\n",
    "plt.xlabel('Relative Importance')\n",
    "plt.show()"
   ]
  },
  {
   "cell_type": "code",
   "execution_count": null,
   "metadata": {},
   "outputs": [],
   "source": []
  }
 ],
 "metadata": {
  "kernelspec": {
   "display_name": "Python 3",
   "language": "python",
   "name": "python3"
  },
  "language_info": {
   "codemirror_mode": {
    "name": "ipython",
    "version": 3
   },
   "file_extension": ".py",
   "mimetype": "text/x-python",
   "name": "python",
   "nbconvert_exporter": "python",
   "pygments_lexer": "ipython3",
   "version": "3.7.4"
  }
 },
 "nbformat": 4,
 "nbformat_minor": 2
}
